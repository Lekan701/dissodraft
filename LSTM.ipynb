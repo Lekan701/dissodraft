{
 "cells": [
  {
   "cell_type": "code",
   "execution_count": 1,
   "metadata": {},
   "outputs": [],
   "source": [
    "import math\n",
    "import pandas_datareader as web\n",
    "import numpy as np\n",
    "import pandas as pd\n",
    "from sklearn.preprocessing import MinMaxScaler\n",
    "from keras.models import Sequential\n",
    "from keras.layers import Dense, LSTM\n",
    "import matplotlib.pyplot as plt\n",
    "plt.style.use('fivethirtyeight')"
   ]
  },
  {
   "cell_type": "code",
   "execution_count": 2,
   "metadata": {},
   "outputs": [
    {
     "data": {
      "text/html": [
       "<div>\n",
       "<style scoped>\n",
       "    .dataframe tbody tr th:only-of-type {\n",
       "        vertical-align: middle;\n",
       "    }\n",
       "\n",
       "    .dataframe tbody tr th {\n",
       "        vertical-align: top;\n",
       "    }\n",
       "\n",
       "    .dataframe thead th {\n",
       "        text-align: right;\n",
       "    }\n",
       "</style>\n",
       "<table border=\"1\" class=\"dataframe\">\n",
       "  <thead>\n",
       "    <tr style=\"text-align: right;\">\n",
       "      <th></th>\n",
       "      <th>Date</th>\n",
       "      <th>Open</th>\n",
       "      <th>High</th>\n",
       "      <th>Low</th>\n",
       "      <th>Close</th>\n",
       "      <th>Adj Close</th>\n",
       "      <th>Volume</th>\n",
       "    </tr>\n",
       "  </thead>\n",
       "  <tbody>\n",
       "    <tr>\n",
       "      <th>2014-09-17</th>\n",
       "      <td>2014-09-17</td>\n",
       "      <td>465.864014</td>\n",
       "      <td>468.174011</td>\n",
       "      <td>452.421997</td>\n",
       "      <td>457.334015</td>\n",
       "      <td>457.334015</td>\n",
       "      <td>2.105680e+07</td>\n",
       "    </tr>\n",
       "    <tr>\n",
       "      <th>2014-09-18</th>\n",
       "      <td>2014-09-18</td>\n",
       "      <td>456.859985</td>\n",
       "      <td>456.859985</td>\n",
       "      <td>413.104004</td>\n",
       "      <td>424.440002</td>\n",
       "      <td>424.440002</td>\n",
       "      <td>3.448320e+07</td>\n",
       "    </tr>\n",
       "    <tr>\n",
       "      <th>2014-09-19</th>\n",
       "      <td>2014-09-19</td>\n",
       "      <td>424.102997</td>\n",
       "      <td>427.834991</td>\n",
       "      <td>384.532013</td>\n",
       "      <td>394.795990</td>\n",
       "      <td>394.795990</td>\n",
       "      <td>3.791970e+07</td>\n",
       "    </tr>\n",
       "    <tr>\n",
       "      <th>2014-09-20</th>\n",
       "      <td>2014-09-20</td>\n",
       "      <td>394.673004</td>\n",
       "      <td>423.295990</td>\n",
       "      <td>389.882996</td>\n",
       "      <td>408.903992</td>\n",
       "      <td>408.903992</td>\n",
       "      <td>3.686360e+07</td>\n",
       "    </tr>\n",
       "    <tr>\n",
       "      <th>2014-09-21</th>\n",
       "      <td>2014-09-21</td>\n",
       "      <td>408.084991</td>\n",
       "      <td>412.425995</td>\n",
       "      <td>393.181000</td>\n",
       "      <td>398.821014</td>\n",
       "      <td>398.821014</td>\n",
       "      <td>2.658010e+07</td>\n",
       "    </tr>\n",
       "    <tr>\n",
       "      <th>...</th>\n",
       "      <td>...</td>\n",
       "      <td>...</td>\n",
       "      <td>...</td>\n",
       "      <td>...</td>\n",
       "      <td>...</td>\n",
       "      <td>...</td>\n",
       "      <td>...</td>\n",
       "    </tr>\n",
       "    <tr>\n",
       "      <th>2021-12-06</th>\n",
       "      <td>2021-12-06</td>\n",
       "      <td>49413.480469</td>\n",
       "      <td>50929.519531</td>\n",
       "      <td>47281.035156</td>\n",
       "      <td>50582.625000</td>\n",
       "      <td>50582.625000</td>\n",
       "      <td>3.770731e+10</td>\n",
       "    </tr>\n",
       "    <tr>\n",
       "      <th>2021-12-07</th>\n",
       "      <td>2021-12-07</td>\n",
       "      <td>50581.828125</td>\n",
       "      <td>51934.781250</td>\n",
       "      <td>50175.808594</td>\n",
       "      <td>50700.085938</td>\n",
       "      <td>50700.085938</td>\n",
       "      <td>3.367681e+10</td>\n",
       "    </tr>\n",
       "    <tr>\n",
       "      <th>2021-12-08</th>\n",
       "      <td>2021-12-08</td>\n",
       "      <td>50667.648438</td>\n",
       "      <td>51171.375000</td>\n",
       "      <td>48765.988281</td>\n",
       "      <td>50504.796875</td>\n",
       "      <td>50504.796875</td>\n",
       "      <td>2.847970e+10</td>\n",
       "    </tr>\n",
       "    <tr>\n",
       "      <th>2021-12-09</th>\n",
       "      <td>2021-12-09</td>\n",
       "      <td>50450.082031</td>\n",
       "      <td>50797.164063</td>\n",
       "      <td>47358.351563</td>\n",
       "      <td>47672.121094</td>\n",
       "      <td>47672.121094</td>\n",
       "      <td>2.960358e+10</td>\n",
       "    </tr>\n",
       "    <tr>\n",
       "      <th>2021-12-10</th>\n",
       "      <td>2021-12-10</td>\n",
       "      <td>47597.632813</td>\n",
       "      <td>49899.292969</td>\n",
       "      <td>47597.632813</td>\n",
       "      <td>48460.320313</td>\n",
       "      <td>48460.320313</td>\n",
       "      <td>3.065355e+10</td>\n",
       "    </tr>\n",
       "  </tbody>\n",
       "</table>\n",
       "<p>2642 rows × 7 columns</p>\n",
       "</div>"
      ],
      "text/plain": [
       "                  Date          Open          High           Low  \\\n",
       "2014-09-17  2014-09-17    465.864014    468.174011    452.421997   \n",
       "2014-09-18  2014-09-18    456.859985    456.859985    413.104004   \n",
       "2014-09-19  2014-09-19    424.102997    427.834991    384.532013   \n",
       "2014-09-20  2014-09-20    394.673004    423.295990    389.882996   \n",
       "2014-09-21  2014-09-21    408.084991    412.425995    393.181000   \n",
       "...                ...           ...           ...           ...   \n",
       "2021-12-06  2021-12-06  49413.480469  50929.519531  47281.035156   \n",
       "2021-12-07  2021-12-07  50581.828125  51934.781250  50175.808594   \n",
       "2021-12-08  2021-12-08  50667.648438  51171.375000  48765.988281   \n",
       "2021-12-09  2021-12-09  50450.082031  50797.164063  47358.351563   \n",
       "2021-12-10  2021-12-10  47597.632813  49899.292969  47597.632813   \n",
       "\n",
       "                   Close     Adj Close        Volume  \n",
       "2014-09-17    457.334015    457.334015  2.105680e+07  \n",
       "2014-09-18    424.440002    424.440002  3.448320e+07  \n",
       "2014-09-19    394.795990    394.795990  3.791970e+07  \n",
       "2014-09-20    408.903992    408.903992  3.686360e+07  \n",
       "2014-09-21    398.821014    398.821014  2.658010e+07  \n",
       "...                  ...           ...           ...  \n",
       "2021-12-06  50582.625000  50582.625000  3.770731e+10  \n",
       "2021-12-07  50700.085938  50700.085938  3.367681e+10  \n",
       "2021-12-08  50504.796875  50504.796875  2.847970e+10  \n",
       "2021-12-09  47672.121094  47672.121094  2.960358e+10  \n",
       "2021-12-10  48460.320313  48460.320313  3.065355e+10  \n",
       "\n",
       "[2642 rows x 7 columns]"
      ]
     },
     "execution_count": 2,
     "metadata": {},
     "output_type": "execute_result"
    }
   ],
   "source": [
    "df = pd.read_csv(\"BTC-USD.csv\")\n",
    "df = df.set_index(pd.DatetimeIndex(df['Date'].values))\n",
    "df"
   ]
  },
  {
   "cell_type": "code",
   "execution_count": 3,
   "metadata": {},
   "outputs": [
    {
     "data": {
      "text/html": [
       "<div>\n",
       "<style scoped>\n",
       "    .dataframe tbody tr th:only-of-type {\n",
       "        vertical-align: middle;\n",
       "    }\n",
       "\n",
       "    .dataframe tbody tr th {\n",
       "        vertical-align: top;\n",
       "    }\n",
       "\n",
       "    .dataframe thead th {\n",
       "        text-align: right;\n",
       "    }\n",
       "</style>\n",
       "<table border=\"1\" class=\"dataframe\">\n",
       "  <thead>\n",
       "    <tr style=\"text-align: right;\">\n",
       "      <th></th>\n",
       "      <th>Date</th>\n",
       "      <th>Open</th>\n",
       "      <th>High</th>\n",
       "      <th>Low</th>\n",
       "      <th>Close</th>\n",
       "      <th>Adj Close</th>\n",
       "      <th>Volume</th>\n",
       "    </tr>\n",
       "  </thead>\n",
       "  <tbody>\n",
       "    <tr>\n",
       "      <th>2014-09-17</th>\n",
       "      <td>2014-09-17</td>\n",
       "      <td>465.864014</td>\n",
       "      <td>468.174011</td>\n",
       "      <td>452.421997</td>\n",
       "      <td>457.334015</td>\n",
       "      <td>457.334015</td>\n",
       "      <td>2.105680e+07</td>\n",
       "    </tr>\n",
       "    <tr>\n",
       "      <th>2014-09-18</th>\n",
       "      <td>2014-09-18</td>\n",
       "      <td>456.859985</td>\n",
       "      <td>456.859985</td>\n",
       "      <td>413.104004</td>\n",
       "      <td>424.440002</td>\n",
       "      <td>424.440002</td>\n",
       "      <td>3.448320e+07</td>\n",
       "    </tr>\n",
       "    <tr>\n",
       "      <th>2014-09-19</th>\n",
       "      <td>2014-09-19</td>\n",
       "      <td>424.102997</td>\n",
       "      <td>427.834991</td>\n",
       "      <td>384.532013</td>\n",
       "      <td>394.795990</td>\n",
       "      <td>394.795990</td>\n",
       "      <td>3.791970e+07</td>\n",
       "    </tr>\n",
       "    <tr>\n",
       "      <th>2014-09-20</th>\n",
       "      <td>2014-09-20</td>\n",
       "      <td>394.673004</td>\n",
       "      <td>423.295990</td>\n",
       "      <td>389.882996</td>\n",
       "      <td>408.903992</td>\n",
       "      <td>408.903992</td>\n",
       "      <td>3.686360e+07</td>\n",
       "    </tr>\n",
       "    <tr>\n",
       "      <th>2014-09-21</th>\n",
       "      <td>2014-09-21</td>\n",
       "      <td>408.084991</td>\n",
       "      <td>412.425995</td>\n",
       "      <td>393.181000</td>\n",
       "      <td>398.821014</td>\n",
       "      <td>398.821014</td>\n",
       "      <td>2.658010e+07</td>\n",
       "    </tr>\n",
       "    <tr>\n",
       "      <th>...</th>\n",
       "      <td>...</td>\n",
       "      <td>...</td>\n",
       "      <td>...</td>\n",
       "      <td>...</td>\n",
       "      <td>...</td>\n",
       "      <td>...</td>\n",
       "      <td>...</td>\n",
       "    </tr>\n",
       "    <tr>\n",
       "      <th>2021-12-06</th>\n",
       "      <td>2021-12-06</td>\n",
       "      <td>49413.480469</td>\n",
       "      <td>50929.519531</td>\n",
       "      <td>47281.035156</td>\n",
       "      <td>50582.625000</td>\n",
       "      <td>50582.625000</td>\n",
       "      <td>3.770731e+10</td>\n",
       "    </tr>\n",
       "    <tr>\n",
       "      <th>2021-12-07</th>\n",
       "      <td>2021-12-07</td>\n",
       "      <td>50581.828125</td>\n",
       "      <td>51934.781250</td>\n",
       "      <td>50175.808594</td>\n",
       "      <td>50700.085938</td>\n",
       "      <td>50700.085938</td>\n",
       "      <td>3.367681e+10</td>\n",
       "    </tr>\n",
       "    <tr>\n",
       "      <th>2021-12-08</th>\n",
       "      <td>2021-12-08</td>\n",
       "      <td>50667.648438</td>\n",
       "      <td>51171.375000</td>\n",
       "      <td>48765.988281</td>\n",
       "      <td>50504.796875</td>\n",
       "      <td>50504.796875</td>\n",
       "      <td>2.847970e+10</td>\n",
       "    </tr>\n",
       "    <tr>\n",
       "      <th>2021-12-09</th>\n",
       "      <td>2021-12-09</td>\n",
       "      <td>50450.082031</td>\n",
       "      <td>50797.164063</td>\n",
       "      <td>47358.351563</td>\n",
       "      <td>47672.121094</td>\n",
       "      <td>47672.121094</td>\n",
       "      <td>2.960358e+10</td>\n",
       "    </tr>\n",
       "    <tr>\n",
       "      <th>2021-12-10</th>\n",
       "      <td>2021-12-10</td>\n",
       "      <td>47597.632813</td>\n",
       "      <td>49899.292969</td>\n",
       "      <td>47597.632813</td>\n",
       "      <td>48460.320313</td>\n",
       "      <td>48460.320313</td>\n",
       "      <td>3.065355e+10</td>\n",
       "    </tr>\n",
       "  </tbody>\n",
       "</table>\n",
       "<p>2638 rows × 7 columns</p>\n",
       "</div>"
      ],
      "text/plain": [
       "                  Date          Open          High           Low  \\\n",
       "2014-09-17  2014-09-17    465.864014    468.174011    452.421997   \n",
       "2014-09-18  2014-09-18    456.859985    456.859985    413.104004   \n",
       "2014-09-19  2014-09-19    424.102997    427.834991    384.532013   \n",
       "2014-09-20  2014-09-20    394.673004    423.295990    389.882996   \n",
       "2014-09-21  2014-09-21    408.084991    412.425995    393.181000   \n",
       "...                ...           ...           ...           ...   \n",
       "2021-12-06  2021-12-06  49413.480469  50929.519531  47281.035156   \n",
       "2021-12-07  2021-12-07  50581.828125  51934.781250  50175.808594   \n",
       "2021-12-08  2021-12-08  50667.648438  51171.375000  48765.988281   \n",
       "2021-12-09  2021-12-09  50450.082031  50797.164063  47358.351563   \n",
       "2021-12-10  2021-12-10  47597.632813  49899.292969  47597.632813   \n",
       "\n",
       "                   Close     Adj Close        Volume  \n",
       "2014-09-17    457.334015    457.334015  2.105680e+07  \n",
       "2014-09-18    424.440002    424.440002  3.448320e+07  \n",
       "2014-09-19    394.795990    394.795990  3.791970e+07  \n",
       "2014-09-20    408.903992    408.903992  3.686360e+07  \n",
       "2014-09-21    398.821014    398.821014  2.658010e+07  \n",
       "...                  ...           ...           ...  \n",
       "2021-12-06  50582.625000  50582.625000  3.770731e+10  \n",
       "2021-12-07  50700.085938  50700.085938  3.367681e+10  \n",
       "2021-12-08  50504.796875  50504.796875  2.847970e+10  \n",
       "2021-12-09  47672.121094  47672.121094  2.960358e+10  \n",
       "2021-12-10  48460.320313  48460.320313  3.065355e+10  \n",
       "\n",
       "[2638 rows x 7 columns]"
      ]
     },
     "execution_count": 3,
     "metadata": {},
     "output_type": "execute_result"
    }
   ],
   "source": [
    "df = df.dropna()\n",
    "df"
   ]
  },
  {
   "cell_type": "code",
   "execution_count": 4,
   "metadata": {},
   "outputs": [
    {
     "data": {
      "text/plain": [
       "(2638, 7)"
      ]
     },
     "execution_count": 4,
     "metadata": {},
     "output_type": "execute_result"
    }
   ],
   "source": [
    "df.shape"
   ]
  },
  {
   "cell_type": "code",
   "execution_count": 5,
   "metadata": {},
   "outputs": [
    {
     "data": {
      "image/png": "[encoded data removed]",
      "text/plain": [
       "<Figure size 1152x576 with 1 Axes>"
      ]
     },
     "metadata": {},
     "output_type": "display_data"
    }
   ],
   "source": [
    "#Visualise the closing price\n",
    "plt.figure(figsize=(16,8))\n",
    "plt.title('BTC Close Price History')\n",
    "plt.plot(df['Close'])\n",
    "plt.xlabel('Date', fontsize=18)\n",
    "plt.ylabel('Close Price USD ($)', fontsize=18)\n",
    "plt.show()"
   ]
  },
  {
   "cell_type": "code",
   "execution_count": 6,
   "metadata": {},
   "outputs": [
    {
     "data": {
      "text/plain": [
       "2111"
      ]
     },
     "execution_count": 6,
     "metadata": {},
     "output_type": "execute_result"
    }
   ],
   "source": [
    "#Create new df with only close column\n",
    "data = df.filter(['Close'])\n",
    "#Convert df to numpy array\n",
    "dataset = data.values\n",
    "#Get num of rows to train model on\n",
    "training_data_len = math.ceil(len(dataset) * .8)\n",
    "\n",
    "training_data_len"
   ]
  },
  {
   "cell_type": "code",
   "execution_count": 7,
   "metadata": {},
   "outputs": [
    {
     "data": {
      "text/plain": [
       "array([[0.00414359],\n",
       "       [0.00365546],\n",
       "       [0.00321557],\n",
       "       ...,\n",
       "       [0.74681178],\n",
       "       [0.70477692],\n",
       "       [0.71647323]])"
      ]
     },
     "execution_count": 7,
     "metadata": {},
     "output_type": "execute_result"
    }
   ],
   "source": [
    "#Scale the data\n",
    "scaler = MinMaxScaler(feature_range=(0,1))\n",
    "scaled_data = scaler.fit_transform(dataset)\n",
    "\n",
    "scaled_data"
   ]
  },
  {
   "cell_type": "code",
   "execution_count": 8,
   "metadata": {},
   "outputs": [
    {
     "name": "stdout",
     "output_type": "stream",
     "text": [
      "[array([0.00414359, 0.00365546, 0.00321557, 0.00342492, 0.0032753 ,\n",
      "       0.00332473, 0.0038239 , 0.00363714, 0.00346454, 0.00335845,\n",
      "       0.00328567, 0.00295417, 0.00292874, 0.00309905, 0.00304965,\n",
      "       0.00292288, 0.00269198, 0.00223721, 0.00211322, 0.00225521,\n",
      "       0.00234585, 0.00259445, 0.0027738 , 0.0027224 , 0.00273334,\n",
      "       0.00297447, 0.00315054, 0.0033057 , 0.00321523, 0.00303393,\n",
      "       0.00305177, 0.0031658 , 0.00313766, 0.00303822, 0.00309209,\n",
      "       0.00304287, 0.00267573, 0.00267466, 0.00251033, 0.00262063,\n",
      "       0.00259518, 0.00266387, 0.00233701, 0.00248116, 0.00237752,\n",
      "       0.00219096, 0.00219308, 0.00221774, 0.00226134, 0.00239481,\n",
      "       0.00254029, 0.00243827, 0.00248387, 0.00274766, 0.00280197,\n",
      "       0.00281341, 0.00364242, 0.00360048, 0.00326041, 0.00293862])]\n",
      "[0.0031129686991635463]\n"
     ]
    }
   ],
   "source": [
    "#Create the training dataset\n",
    "#Create the scaled training dataset\n",
    "train_data = scaled_data[0:training_data_len , :]\n",
    "#Split into xtrain and ytrain \n",
    "x_train = []\n",
    "y_train = []\n",
    "\n",
    "for i in range(60, len(train_data)):\n",
    "    x_train.append(train_data[i-60:i, 0])\n",
    "    y_train.append(train_data[i, 0])\n",
    "    if i<=60:\n",
    "        print(x_train)\n",
    "        print(y_train)"
   ]
  },
  {
   "cell_type": "code",
   "execution_count": 9,
   "metadata": {},
   "outputs": [],
   "source": [
    "#Convert x train and y train to numpy arrays\n",
    "x_train, y_train = np.array(x_train), np.array(y_train)"
   ]
  },
  {
   "cell_type": "code",
   "execution_count": 10,
   "metadata": {},
   "outputs": [
    {
     "data": {
      "text/plain": [
       "(2051, 60, 1)"
      ]
     },
     "execution_count": 10,
     "metadata": {},
     "output_type": "execute_result"
    }
   ],
   "source": [
    "#Reshape data\n",
    "x_train = np.reshape(x_train, (x_train.shape[0], x_train.shape[1], 1))\n",
    "x_train.shape"
   ]
  },
  {
   "cell_type": "code",
   "execution_count": 11,
   "metadata": {},
   "outputs": [],
   "source": [
    "#Build the model\n",
    "model = Sequential()\n",
    "model.add(LSTM(50, return_sequences=True, input_shape = (x_train.shape[1],1)))\n",
    "model.add(LSTM(50, return_sequences= False))\n",
    "model.add(Dense(25))\n",
    "model.add(Dense(1))"
   ]
  },
  {
   "cell_type": "code",
   "execution_count": 12,
   "metadata": {},
   "outputs": [],
   "source": [
    "#Compile the model\n",
    "model.compile(optimizer='adam', loss='mean_squared_error')"
   ]
  },
  {
   "cell_type": "code",
   "execution_count": 13,
   "metadata": {},
   "outputs": [
    {
     "name": "stdout",
     "output_type": "stream",
     "text": [
      "2051/2051 [==============================] - 43s 20ms/step - loss: 1.9139e-04\n"
     ]
    },
    {
     "data": {
      "text/plain": [
       "<keras.callbacks.History at 0x26863d67310>"
      ]
     },
     "execution_count": 13,
     "metadata": {},
     "output_type": "execute_result"
    }
   ],
   "source": [
    "#Train model\n",
    "model.fit(x_train, y_train, batch_size=1, epochs=1)"
   ]
  },
  {
   "cell_type": "code",
   "execution_count": 14,
   "metadata": {},
   "outputs": [],
   "source": [
    "#Create the testing dataset\n",
    "#Create a nw array containing scaled values from index \n",
    "test_data = scaled_data[training_data_len - 60: , :]\n",
    "#Create the new data sets x_test and y_test\n",
    "x_test = []\n",
    "y_test = dataset[training_data_len:, :]\n",
    "for i in range(60, len(test_data)):\n",
    "    x_test.append(test_data[i-60:i, 0])"
   ]
  },
  {
   "cell_type": "code",
   "execution_count": 15,
   "metadata": {},
   "outputs": [],
   "source": [
    "#Convert the data to a numpy array\n",
    "x_test = np.array(x_test)"
   ]
  },
  {
   "cell_type": "code",
   "execution_count": 16,
   "metadata": {},
   "outputs": [],
   "source": [
    "#Reshape data\n",
    "x_test = np.reshape(x_test, (x_test.shape[0], x_test.shape[1], 1 ))"
   ]
  },
  {
   "cell_type": "code",
   "execution_count": 17,
   "metadata": {},
   "outputs": [],
   "source": [
    "#Get model predicted price values\n",
    "predictions = model.predict(x_test)\n",
    "predictions = scaler.inverse_transform(predictions)"
   ]
  },
  {
   "cell_type": "code",
   "execution_count": 18,
   "metadata": {},
   "outputs": [
    {
     "data": {
      "text/plain": [
       "2717.6510652103884"
      ]
     },
     "execution_count": 18,
     "metadata": {},
     "output_type": "execute_result"
    }
   ],
   "source": [
    "#Get the root mean squared error (RMSE) lower = better\n",
    "rmse = np.sqrt(np.mean(predictions - y_test)**2 )\n",
    "rmse"
   ]
  },
  {
   "cell_type": "code",
   "execution_count": 19,
   "metadata": {},
   "outputs": [
    {
     "name": "stderr",
     "output_type": "stream",
     "text": [
      "<ipython-input-19-a9fd0068c3e2>:3: SettingWithCopyWarning: \n",
      "A value is trying to be set on a copy of a slice from a DataFrame.\n",
      "Try using .loc[row_indexer,col_indexer] = value instead\n",
      "\n",
      "See the caveats in the documentation: https://pandas.pydata.org/pandas-docs/stable/user_guide/indexing.html#returning-a-view-versus-a-copy\n",
      "  valid['Predictions'] = predictions\n"
     ]
    },
    {
     "data": {
      "image/png": "[encoded data removed]",
      "text/plain": [
       "<Figure size 1152x576 with 1 Axes>"
      ]
     },
     "metadata": {},
     "output_type": "display_data"
    }
   ],
   "source": [
    "train = data[:training_data_len]\n",
    "valid = data[training_data_len:]\n",
    "valid['Predictions'] = predictions\n",
    "#Visualise data\n",
    "plt.figure(figsize=(16,8))\n",
    "plt.title('Model')\n",
    "plt.xlabel('Date', fontsize = 18)\n",
    "plt.ylabel('Close price in USD ($)', fontsize=18)\n",
    "plt.plot(train['Close'])\n",
    "plt.plot(valid[['Close', 'Predictions']])\n",
    "plt.legend(['Train', 'Val', 'Predictions'], loc='lower right')\n",
    "plt.show()"
   ]
  },
  {
   "cell_type": "code",
   "execution_count": 20,
   "metadata": {},
   "outputs": [
    {
     "data": {
      "text/html": [
       "<div>\n",
       "<style scoped>\n",
       "    .dataframe tbody tr th:only-of-type {\n",
       "        vertical-align: middle;\n",
       "    }\n",
       "\n",
       "    .dataframe tbody tr th {\n",
       "        vertical-align: top;\n",
       "    }\n",
       "\n",
       "    .dataframe thead th {\n",
       "        text-align: right;\n",
       "    }\n",
       "</style>\n",
       "<table border=\"1\" class=\"dataframe\">\n",
       "  <thead>\n",
       "    <tr style=\"text-align: right;\">\n",
       "      <th></th>\n",
       "      <th>Close</th>\n",
       "      <th>Predictions</th>\n",
       "    </tr>\n",
       "  </thead>\n",
       "  <tbody>\n",
       "    <tr>\n",
       "      <th>2020-06-29</th>\n",
       "      <td>9190.854492</td>\n",
       "      <td>9067.634766</td>\n",
       "    </tr>\n",
       "    <tr>\n",
       "      <th>2020-06-30</th>\n",
       "      <td>9137.993164</td>\n",
       "      <td>9036.062500</td>\n",
       "    </tr>\n",
       "    <tr>\n",
       "      <th>2020-07-01</th>\n",
       "      <td>9228.325195</td>\n",
       "      <td>9013.179688</td>\n",
       "    </tr>\n",
       "    <tr>\n",
       "      <th>2020-07-02</th>\n",
       "      <td>9123.410156</td>\n",
       "      <td>9013.471680</td>\n",
       "    </tr>\n",
       "    <tr>\n",
       "      <th>2020-07-03</th>\n",
       "      <td>9087.303711</td>\n",
       "      <td>9006.421875</td>\n",
       "    </tr>\n",
       "    <tr>\n",
       "      <th>...</th>\n",
       "      <td>...</td>\n",
       "      <td>...</td>\n",
       "    </tr>\n",
       "    <tr>\n",
       "      <th>2021-12-06</th>\n",
       "      <td>50582.625000</td>\n",
       "      <td>48245.496094</td>\n",
       "    </tr>\n",
       "    <tr>\n",
       "      <th>2021-12-07</th>\n",
       "      <td>50700.085938</td>\n",
       "      <td>47304.535156</td>\n",
       "    </tr>\n",
       "    <tr>\n",
       "      <th>2021-12-08</th>\n",
       "      <td>50504.796875</td>\n",
       "      <td>46777.660156</td>\n",
       "    </tr>\n",
       "    <tr>\n",
       "      <th>2021-12-09</th>\n",
       "      <td>47672.121094</td>\n",
       "      <td>46500.082031</td>\n",
       "    </tr>\n",
       "    <tr>\n",
       "      <th>2021-12-10</th>\n",
       "      <td>48460.320313</td>\n",
       "      <td>45866.117188</td>\n",
       "    </tr>\n",
       "  </tbody>\n",
       "</table>\n",
       "<p>527 rows × 2 columns</p>\n",
       "</div>"
      ],
      "text/plain": [
       "                   Close   Predictions\n",
       "2020-06-29   9190.854492   9067.634766\n",
       "2020-06-30   9137.993164   9036.062500\n",
       "2020-07-01   9228.325195   9013.179688\n",
       "2020-07-02   9123.410156   9013.471680\n",
       "2020-07-03   9087.303711   9006.421875\n",
       "...                  ...           ...\n",
       "2021-12-06  50582.625000  48245.496094\n",
       "2021-12-07  50700.085938  47304.535156\n",
       "2021-12-08  50504.796875  46777.660156\n",
       "2021-12-09  47672.121094  46500.082031\n",
       "2021-12-10  48460.320313  45866.117188\n",
       "\n",
       "[527 rows x 2 columns]"
      ]
     },
     "execution_count": 20,
     "metadata": {},
     "output_type": "execute_result"
    }
   ],
   "source": [
    "#Show the actual price and predicted price\n",
    "valid"
   ]
  },
  {
   "cell_type": "code",
   "execution_count": 21,
   "metadata": {},
   "outputs": [
    {
     "name": "stdout",
     "output_type": "stream",
     "text": [
      "[[45413.113]]\n"
     ]
    }
   ],
   "source": [
    "#Get the quote\n",
    "btc_quote = df\n",
    "#create new df\n",
    "new_df = btc_quote.filter(['Close'])\n",
    "#Get last 60 day closing price val and convert df to an array\n",
    "last_60_days = new_df[-60:].values\n",
    "#Scaled data\n",
    "last_60_days_scaled = scaler.transform(last_60_days)\n",
    "#Create empty list\n",
    "X_test = []\n",
    "#Append the past 60 days \n",
    "X_test.append(last_60_days_scaled)\n",
    "#Convert the X_test dataset to numpy array\n",
    "X_test = np.array(X_test)\n",
    "#Reshape data to be 3d\n",
    "X_test = np.reshape(X_test, (X_test.shape[0], X_test.shape[1], 1))\n",
    "#Get predicted scaled price\n",
    "pred_price = model.predict(X_test)\n",
    "#Undo the scaling\n",
    "pred_price = scaler.inverse_transform(pred_price)\n",
    "print(pred_price)"
   ]
  }
 ],
 "metadata": {
  "interpreter": {
   "hash": "d6a9d2a4592c5b3ddfb38542b4ea4a99f66cb18445a286738ed7b9211001497f"
  },
  "kernelspec": {
   "display_name": "Python 3.8.8 64-bit ('base': conda)",
   "language": "python",
   "name": "python3"
  },
  "language_info": {
   "codemirror_mode": {
    "name": "ipython",
    "version": 3
   },
   "file_extension": ".py",
   "mimetype": "text/x-python",
   "name": "python",
   "nbconvert_exporter": "python",
   "pygments_lexer": "ipython3",
   "version": "3.8.8"
  },
  "orig_nbformat": 4
 },
 "nbformat": 4,
 "nbformat_minor": 2
}
